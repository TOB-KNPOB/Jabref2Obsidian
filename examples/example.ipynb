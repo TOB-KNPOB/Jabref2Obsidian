{
 "cells": [
  {
   "cell_type": "code",
   "execution_count": 1,
   "metadata": {},
   "outputs": [],
   "source": [
    "# add root folder of the project to path\n",
    "import sys\n",
    "sys.path.insert(0, '..')"
   ]
  },
  {
   "cell_type": "code",
   "execution_count": 2,
   "metadata": {},
   "outputs": [
    {
     "name": "stderr",
     "output_type": "stream",
     "text": [
      "Entry type software not standard. Not considered.\n",
      "Entry type software not standard. Not considered.\n",
      "Entry type software not standard. Not considered.\n",
      "Entry type software not standard. Not considered.\n",
      "Entry type software not standard. Not considered.\n",
      "Entry type software not standard. Not considered.\n",
      "Entry type software not standard. Not considered.\n"
     ]
    },
    {
     "name": "stdout",
     "output_type": "stream",
     "text": [
      "removed legacy ../output/Groups folder\n",
      "removed legacy ../output/Notes folder\n",
      "entry information miss:\n",
      "{'url': 'https://www.ebook.de/de/product/30961446/marco_oechsner_a_first_introduction_to_the_finite_element_analysis_program_msc_marc_mentat.html', 'priority': 'prio2', 'pagetotal': '158', 'groups': 'Physical System', 'file': ':A First Introduction to the Finite Element Analysis Program Msc Marc_mentat.pdf:PDF', 'ean': '9783319719153', 'month': 'November', 'isbn': '9783319719153', 'year': '2017', 'title': 'A first introduction to the finite element analysis program msc marc/mentat', 'publisher': 'Springer-Verlag GmbH', 'author': 'Öchsner, Marco', 'ENTRYTYPE': 'book', 'ID': 'Oechsner_M_2017'}\n"
     ]
    }
   ],
   "source": [
    "from jabref2obsidian import convert\n",
    "convert.j2o(\n",
    "    bib_path='/Users/kirov/Library/Mobile Documents/iCloud~com~apple~iBooks/Documents/Knowledge.bib',\n",
    "    export_folder='../output/',\n",
    "    asset_folder='/Users/kirov/Library/Mobile Documents/iCloud~com~apple~iBooks/Documents/',\n",
    "    )"
   ]
  },
  {
   "cell_type": "code",
   "execution_count": 4,
   "metadata": {},
   "outputs": [
    {
     "name": "stderr",
     "output_type": "stream",
     "text": [
      "Entry type software not standard. Not considered.\n",
      "Entry type software not standard. Not considered.\n",
      "Entry type software not standard. Not considered.\n",
      "Entry type software not standard. Not considered.\n",
      "Entry type software not standard. Not considered.\n",
      "Entry type software not standard. Not considered.\n",
      "Entry type software not standard. Not considered.\n"
     ]
    },
    {
     "name": "stdout",
     "output_type": "stream",
     "text": [
      "entry information miss:\n",
      "{'url': 'https://www.ebook.de/de/product/30961446/marco_oechsner_a_first_introduction_to_the_finite_element_analysis_program_msc_marc_mentat.html', 'priority': 'prio2', 'pagetotal': '158', 'groups': 'Physical System', 'file': ':A First Introduction to the Finite Element Analysis Program Msc Marc_mentat.pdf:PDF', 'ean': '9783319719153', 'month': 'November', 'isbn': '9783319719153', 'year': '2017', 'title': 'A first introduction to the finite element analysis program msc marc/mentat', 'publisher': 'Springer-Verlag GmbH', 'author': 'Öchsner, Marco', 'ENTRYTYPE': 'book', 'ID': 'Oechsner_M_2017'}\n"
     ]
    }
   ],
   "source": [
    "# \"\"\"\n",
    "from jabref2obsidian import convert\n",
    "convert.j2o(\n",
    "    bib_path='/Users/kirov/Library/Mobile Documents/iCloud~com~apple~iBooks/Documents/Knowledge.bib',\n",
    "    export_folder='/Users/kirov/Library/Mobile Documents/iCloud~md~obsidian/Documents/Appraise/6-Humboldt/5-Materials/Literatures/',\n",
    "    asset_folder='/Users/kirov/Library/Mobile Documents/iCloud~com~apple~iBooks/Documents/',\n",
    "    )\n",
    "# \"\"\""
   ]
  },
  {
   "cell_type": "code",
   "execution_count": null,
   "metadata": {},
   "outputs": [],
   "source": []
  }
 ],
 "metadata": {
  "kernelspec": {
   "display_name": "base",
   "language": "python",
   "name": "python3"
  },
  "language_info": {
   "codemirror_mode": {
    "name": "ipython",
    "version": 3
   },
   "file_extension": ".py",
   "mimetype": "text/x-python",
   "name": "python",
   "nbconvert_exporter": "python",
   "pygments_lexer": "ipython3",
   "version": "3.8.8"
  },
  "orig_nbformat": 4,
  "vscode": {
   "interpreter": {
    "hash": "8c8ccae62b03e03f602162ec2d3ff7715f4331cfb18cae8be1463dcdd08d9f0b"
   }
  }
 },
 "nbformat": 4,
 "nbformat_minor": 2
}
